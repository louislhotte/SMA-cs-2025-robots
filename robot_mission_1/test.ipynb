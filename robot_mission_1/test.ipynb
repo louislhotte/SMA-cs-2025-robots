{
 "cells": [
  {
   "cell_type": "markdown",
   "metadata": {},
   "source": [
    "# Simulation"
   ]
  },
  {
   "cell_type": "code",
   "execution_count": 7,
   "metadata": {},
   "outputs": [
    {
     "data": {
      "text/plain": [
       "\"\\nserver.py\\nExample of using Mesa's SolaraViz to visualize the RobotMission.\\n\""
      ]
     },
     "execution_count": 7,
     "metadata": {},
     "output_type": "execute_result"
    }
   ],
   "source": [
    "\"\"\"\n",
    "-------------------------------------------------\n",
    "Group 1 - Project Name\n",
    "Created on: 2025-03-11\n",
    "Authors: Louis LHOTTE, Ambroise MARTIN-ROUVILLE, Edouard SEGUIER\n",
    "-------------------------------------------------\n",
    "\n",
    "Description:\n",
    "This script [briefly describe the purpose of the script here].\n",
    "\"\"\"\n",
    "\n",
    "\"\"\"\n",
    "server.py\n",
    "Example of using Mesa's SolaraViz to visualize the RobotMission.\n",
    "\"\"\""
   ]
  },
  {
   "cell_type": "markdown",
   "metadata": {},
   "source": [
    "# Grille"
   ]
  },
  {
   "cell_type": "code",
   "execution_count": 38,
   "metadata": {},
   "outputs": [
    {
     "name": "stdout",
     "output_type": "stream",
     "text": [
      "Mesa version: 3.1.4\n"
     ]
    }
   ],
   "source": [
    "import mesa\n",
    "print(f\"Mesa version: {mesa.__version__}\")\n",
    "\n",
    "from mesa.visualization import SolaraViz, make_plot_component, make_space_component"
   ]
  },
  {
   "cell_type": "code",
   "execution_count": null,
   "metadata": {},
   "outputs": [],
   "source": [
    "\"\"\"a simple version of the boltman wealth model\"\"\"\n",
    "\n",
    "import mesa\n",
    "\n",
    "\n",
    "def compute_gini(model):\n",
    "    agent_wealths = [agent.wealth for agent in model.agents]\n",
    "    x = sorted(agent_wealths)\n",
    "    N = model.num_agents\n",
    "    B = sum(xi * (N - i) for i, xi in enumerate(x)) / (N * sum(x))\n",
    "    return 1 + (1 / N) - 2 * B\n",
    "\n",
    "\n",
    "class GreenAgent(mesa.Agent):\n",
    "    \"\"\"An agent with fixed initial wealth.\"\"\"\n",
    "\n",
    "    def __init__(self, model):\n",
    "        super().__init__(model)\n",
    "        self.wealth = 1\n",
    "\n",
    "    def move(self):\n",
    "        \"\"\"move to a random neighboring cell.\"\"\"\n",
    "        possible_steps = self.model.grid.get_neighborhood(\n",
    "            self.pos, moore=True, include_center=False\n",
    "        )\n",
    "        new_position = self.random.choice(possible_steps)\n",
    "        self.model.grid.move_agent(self, new_position)\n",
    "\n",
    "    def give_money(self):\n",
    "        \"\"\"give money to another agent in the same gridcell.\"\"\"\n",
    "        cellmates = self.model.grid.get_cell_list_contents([self.pos])\n",
    "        if len(cellmates) > 1:\n",
    "            other = self.random.choice(cellmates)\n",
    "            other.wealth += 1\n",
    "            self.wealth -= 1\n",
    "\n",
    "    def step(self):\n",
    "        \"\"\"do one step of the agent.\"\"\"\n",
    "        self.move()\n",
    "        if self.wealth > 0:\n",
    "            self.give_money()\n",
    "\n",
    "\n",
    "class MoneyModel(mesa.Model):\n",
    "    \"\"\"A model with some number of agents.\"\"\"\n",
    "\n",
    "    def __init__(self, n=10, width=10, height=10, seed=None):\n",
    "        \"\"\"Initialize a MoneyModel instance.\n",
    "\n",
    "        Args:\n",
    "            N: The number of agents.\n",
    "            width: width of the grid.\n",
    "            height: Height of the grid.\n",
    "        \"\"\"\n",
    "        super().__init__(seed=seed)\n",
    "        self.num_agents = n\n",
    "        self.grid = mesa.space.MultiGrid(width, height, True)\n",
    "\n",
    "        agents = GreenAgent.create_agents(model=self, n=n)\n",
    "        x = self.rng.integers(0, self.grid.width//3, size=(n,))\n",
    "        y = self.rng.integers(0, self.grid.height, size=(n,))\n",
    "        for a, i, j in zip(agents, x, y):\n",
    "            self.grid.place_agent(a, (i, j))\n",
    "        \n",
    "        self.datacollector = mesa.DataCollector(\n",
    "            model_reporters={\"Gini\": compute_gini}, agent_reporters={\"Wealth\": \"wealth\"}\n",
    "        )\n",
    "        self.datacollector.collect(self)\n",
    "\n",
    "    def step(self):\n",
    "        \"\"\"do one step of the model\"\"\"\n",
    "        self.agents.shuffle_do(\"step\")\n",
    "        self.datacollector.collect(self)\n"
   ]
  },
  {
   "cell_type": "code",
   "execution_count": 47,
   "metadata": {},
   "outputs": [],
   "source": [
    "def agent_portrayal(agent):\n",
    "    size = 10\n",
    "    color = \"tab:red\"\n",
    "    if agent.wealth > 0:\n",
    "        size = 50\n",
    "        color = \"tab:green\"\n",
    "    return {\"size\": size, \"color\": color}\n",
    "\n",
    "model_params = {\n",
    "    \"n\": {\n",
    "        \"type\": \"SliderInt\",\n",
    "        \"value\": 50,\n",
    "        \"label\": \"Number of agents:\",\n",
    "        \"min\": 10,\n",
    "        \"max\": 100,\n",
    "        \"step\": 1,\n",
    "    },\n",
    "    \"width\": 10,\n",
    "    \"height\": 10,\n",
    "}"
   ]
  },
  {
   "cell_type": "code",
   "execution_count": 49,
   "metadata": {},
   "outputs": [
    {
     "data": {
      "application/vnd.jupyter.widget-view+json": {
       "model_id": "0c343aaec57f4f77bbb02018db114b81",
       "version_major": 2,
       "version_minor": 0
      },
      "text/html": [
       "Cannot show widget. You probably want to rerun the code cell above (<i>Click in the code cell, and press Shift+Enter <kbd>⇧</kbd>+<kbd>↩</kbd></i>)."
      ],
      "text/plain": [
       "Cannot show ipywidgets in text"
      ]
     },
     "metadata": {},
     "output_type": "display_data"
    }
   ],
   "source": [
    "# Create initial model instance\n",
    "money_model = MoneyModel(n=50, width=30, height=10)\n",
    "\n",
    "SpaceGraph = make_space_component(agent_portrayal)\n",
    "GiniPlot = make_plot_component(\"Gini\")\n",
    "\n",
    "page = SolaraViz(\n",
    "    money_model,\n",
    "    components=[SpaceGraph],\n",
    "    model_params=model_params,\n",
    "    name=\"Waste Collector Terrain\",\n",
    ")\n",
    "page"
   ]
  },
  {
   "cell_type": "markdown",
   "metadata": {},
   "source": [
    "# Waste collector"
   ]
  },
  {
   "cell_type": "code",
   "execution_count": 54,
   "metadata": {},
   "outputs": [
    {
     "data": {
      "application/vnd.jupyter.widget-view+json": {
       "model_id": "fa6dcdf5f08f40b9bfc6be170abbe69c",
       "version_major": 2,
       "version_minor": 0
      },
      "text/html": [
       "Cannot show widget. You probably want to rerun the code cell above (<i>Click in the code cell, and press Shift+Enter <kbd>⇧</kbd>+<kbd>↩</kbd></i>)."
      ],
      "text/plain": [
       "Cannot show ipywidgets in text"
      ]
     },
     "metadata": {},
     "output_type": "display_data"
    }
   ],
   "source": [
    "import mesa\n",
    "\n",
    "def compute_gini(model):\n",
    "    agent_waste = [agent.waste for agent in model.agents if hasattr(agent, 'waste')]\n",
    "    if not agent_waste:\n",
    "        return 0\n",
    "    x = sorted(agent_waste)\n",
    "    N = len(agent_waste)\n",
    "    B = sum(xi * (N - i) for i, xi in enumerate(x)) / (N * sum(x))\n",
    "    return 1 + (1 / N) - 2 * B\n",
    "\n",
    "class RobotAgent(mesa.Agent):\n",
    "    def __init__(self, model, color):\n",
    "        super().__init__(model)\n",
    "        self.color = color\n",
    "        self.waste = 1\n",
    "    \n",
    "    def move(self):\n",
    "        possible_steps = self.model.grid.get_neighborhood(\n",
    "            self.pos, moore=True, include_center=False\n",
    "        )\n",
    "        new_position = self.random.choice(possible_steps)\n",
    "        self.model.grid.move_agent(self, new_position)\n",
    "\n",
    "    def step(self):\n",
    "        self.move()\n",
    "\n",
    "class Waste(mesa.Agent):\n",
    "    def __init__(self, model):\n",
    "        super().__init__(model)\n",
    "        self.color = \"black\"\n",
    "\n",
    "class WasteModel(mesa.Model):\n",
    "    def __init__(self, n=10, width=10, height=10, seed=None):\n",
    "        super().__init__(seed=seed)\n",
    "        self.num_agents = n\n",
    "        self.grid = mesa.space.MultiGrid(width, height, True)\n",
    "        \n",
    "        robots = [\n",
    "            RobotAgent(self, \"green\"),\n",
    "            RobotAgent(self, \"yellow\"),\n",
    "            RobotAgent(self, \"red\"),\n",
    "        ]\n",
    "        x_positions = [self.rng.integers(0, width//3), self.rng.integers(width//3, 2*width//3), self.rng.integers(2*width//3, width)]\n",
    "        y_positions = self.rng.integers(0, height, size=3)\n",
    "        for r, x, y in zip(robots, x_positions, y_positions):\n",
    "            self.grid.place_agent(r, (x, y))\n",
    "        \n",
    "        waste_count = self.rng.integers(5, 15)\n",
    "        waste_x = self.rng.integers(0, width, size=waste_count)\n",
    "        waste_y = self.rng.integers(0, height, size=waste_count)\n",
    "        for x, y in zip(waste_x, waste_y):\n",
    "            self.grid.place_agent(Waste(self), (x, y))\n",
    "        \n",
    "        self.datacollector = mesa.DataCollector(\n",
    "            model_reporters={\"Gini\": compute_gini}, agent_reporters={}\n",
    "        )\n",
    "        self.datacollector.collect(self)\n",
    "    \n",
    "    def step(self):\n",
    "        self.agents.shuffle_do(\"step\")\n",
    "        self.datacollector.collect(self)\n",
    "\n",
    "def agent_portrayal(agent):\n",
    "    return {\"size\": 50 if isinstance(agent, RobotAgent) else 10, \"color\": agent.color}\n",
    "\n",
    "model_params = {\n",
    "    \"n\": {\n",
    "        \"type\": \"SliderInt\",\n",
    "        \"value\": 50,\n",
    "        \"label\": \"Number of agents:\",\n",
    "        \"min\": 10,\n",
    "        \"max\": 100,\n",
    "        \"step\": 1,\n",
    "    },\n",
    "    \"width\": 10,\n",
    "    \"height\": 10,\n",
    "}\n",
    "\n",
    "waste_model = WasteModel(n=50, width=30, height=10)\n",
    "SpaceGraph = make_space_component(agent_portrayal)\n",
    "GiniPlot = make_plot_component(\"Gini\")\n",
    "\n",
    "page = SolaraViz(\n",
    "    waste_model,\n",
    "    components=[SpaceGraph],\n",
    "    model_params=model_params,\n",
    "    name=\"Waste Collector Terrain\",\n",
    ")\n",
    "page\n"
   ]
  },
  {
   "cell_type": "code",
   "execution_count": 63,
   "metadata": {},
   "outputs": [
    {
     "data": {
      "application/vnd.jupyter.widget-view+json": {
       "model_id": "8ee839a666e74919804ebbca03273af6",
       "version_major": 2,
       "version_minor": 0
      },
      "text/html": [
       "Cannot show widget. You probably want to rerun the code cell above (<i>Click in the code cell, and press Shift+Enter <kbd>⇧</kbd>+<kbd>↩</kbd></i>)."
      ],
      "text/plain": [
       "Cannot show ipywidgets in text"
      ]
     },
     "metadata": {},
     "output_type": "display_data"
    }
   ],
   "source": [
    "import mesa\n",
    "\n",
    "def compute_gini(model):\n",
    "    agent_waste = [agent.waste for agent in model.agents if hasattr(agent, 'waste')]\n",
    "    if not agent_waste:\n",
    "        return 0\n",
    "    x = sorted(agent_waste)\n",
    "    N = len(agent_waste)\n",
    "    B = sum(xi * (N - i) for i, xi in enumerate(x)) / (N * sum(x))\n",
    "    return 1 + (1 / N) - 2 * B\n",
    "\n",
    "class RobotAgent(mesa.Agent):\n",
    "    def __init__(self, model, color):\n",
    "        super().__init__(model)\n",
    "        self.color = color\n",
    "        self.waste = 1\n",
    "    \n",
    "    def move(self):\n",
    "        possible_steps = self.model.grid.get_neighborhood(\n",
    "            self.pos, moore=True, include_center=False\n",
    "        )\n",
    "        new_position = self.random.choice(possible_steps)\n",
    "        self.model.grid.move_agent(self, new_position)\n",
    "\n",
    "    def step(self):\n",
    "        self.move()\n",
    "\n",
    "class Waste(mesa.Agent):\n",
    "    def __init__(self, model):\n",
    "        super().__init__(model)\n",
    "        self.color = \"black\"\n",
    "\n",
    "class WasteModel(mesa.Model):\n",
    "    def __init__(self, num_green=1, num_yellow=1, num_red=1, width=10, height=10, seed=None):\n",
    "        super().__init__(seed=seed)\n",
    "        self.grid = mesa.space.MultiGrid(width, height, True)\n",
    "        \n",
    "        thirds = width // 3\n",
    "        \n",
    "        agent_configs = {\n",
    "            \"green\": (0, thirds, num_green),  # Left third\n",
    "            \"yellow\": (thirds, 2 * thirds, num_yellow),  # Middle third\n",
    "            \"red\": (2 * thirds, width, num_red),  # Right third\n",
    "        }\n",
    "        \n",
    "        for color, (x_min, x_max, count) in agent_configs.items():\n",
    "            x_positions = self.rng.integers(x_min, x_max, size=count)\n",
    "            y_positions = self.rng.integers(0, height, size=count)\n",
    "            for x, y in zip(x_positions, y_positions):\n",
    "                self.grid.place_agent(RobotAgent(self, color), (x, y))\n",
    "        \n",
    "        waste_count = self.rng.integers(5, 15)\n",
    "        waste_x = self.rng.integers(0, width, size=waste_count)\n",
    "        waste_y = self.rng.integers(0, height, size=waste_count)\n",
    "        for x, y in zip(waste_x, waste_y):\n",
    "            self.grid.place_agent(Waste(self), (x, y))\n",
    "        \n",
    "        self.datacollector = mesa.DataCollector(\n",
    "            model_reporters={\"Gini\": compute_gini}, agent_reporters={}\n",
    "        )\n",
    "        self.datacollector.collect(self)\n",
    "    \n",
    "    def step(self):\n",
    "        self.agents.shuffle_do(\"step\")\n",
    "        self.datacollector.collect(self)\n",
    "\n",
    "def agent_portrayal(agent):\n",
    "    portrayal = {}\n",
    "\n",
    "    if isinstance(agent, RobotAgent):\n",
    "        portrayal[\"size\"] = 50\n",
    "        portrayal[\"color\"] = agent.color\n",
    "    elif isinstance(agent, Waste):\n",
    "        portrayal[\"size\"] = 10\n",
    "        portrayal[\"color\"] = \"black\"\n",
    "    else:\n",
    "        x, _ = agent  # Extract position\n",
    "        width_third = waste_model.grid.width // 3\n",
    "        if x < width_third:\n",
    "            portrayal[\"color\"] = \"lightgreen\"  # Left third\n",
    "        elif x < 2 * width_third:\n",
    "            portrayal[\"color\"] = \"yellow\"  # Middle third\n",
    "        else:\n",
    "            portrayal[\"color\"] = \"red\"  # Right third\n",
    "        portrayal[\"size\"] = 1  # Ensure it appears as a background layer\n",
    "    \n",
    "    return portrayal\n",
    "\n",
    "\n",
    "model_params = {\n",
    "    \"num_green\": {\n",
    "        \"type\": \"SliderInt\",\n",
    "        \"value\": 2,\n",
    "        \"label\": \"Number of Green Agents:\",\n",
    "        \"min\": 1,\n",
    "        \"max\": 10,\n",
    "        \"step\": 1,\n",
    "    },\n",
    "    \"num_yellow\": {\n",
    "        \"type\": \"SliderInt\",\n",
    "        \"value\": 2,\n",
    "        \"label\": \"Number of Yellow Agents:\",\n",
    "        \"min\": 1,\n",
    "        \"max\": 10,\n",
    "        \"step\": 1,\n",
    "    },\n",
    "    \"num_red\": {\n",
    "        \"type\": \"SliderInt\",\n",
    "        \"value\": 2,\n",
    "        \"label\": \"Number of Red Agents:\",\n",
    "        \"min\": 1,\n",
    "        \"max\": 10,\n",
    "        \"step\": 1,\n",
    "    },\n",
    "    \"width\": 10,\n",
    "    \"height\": 10,\n",
    "}\n",
    "\n",
    "waste_model = WasteModel(num_green=2, num_yellow=2, num_red=2, width=10, height=10)\n",
    "SpaceGraph = make_space_component(agent_portrayal)\n",
    "GiniPlot = make_plot_component(\"Gini\")\n",
    "\n",
    "page = SolaraViz(\n",
    "    waste_model,\n",
    "    components=[SpaceGraph],\n",
    "    model_params=model_params,\n",
    "    name=\"Waste Collector Terrain\",\n",
    ")\n",
    "page"
   ]
  },
  {
   "cell_type": "code",
   "execution_count": null,
   "metadata": {},
   "outputs": [],
   "source": []
  }
 ],
 "metadata": {
  "kernelspec": {
   "display_name": "Python 3",
   "language": "python",
   "name": "python3"
  },
  "language_info": {
   "codemirror_mode": {
    "name": "ipython",
    "version": 3
   },
   "file_extension": ".py",
   "mimetype": "text/x-python",
   "name": "python",
   "nbconvert_exporter": "python",
   "pygments_lexer": "ipython3",
   "version": "3.11.7"
  }
 },
 "nbformat": 4,
 "nbformat_minor": 2
}
